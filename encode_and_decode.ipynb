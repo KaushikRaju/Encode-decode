{
 "cells": [
  {
   "cell_type": "code",
   "execution_count": 7,
   "id": "75ff0867",
   "metadata": {},
   "outputs": [],
   "source": [
    "import cv2\n",
    "import numpy as np"
   ]
  },
  {
   "cell_type": "code",
   "execution_count": 8,
   "id": "bbd8f619",
   "metadata": {},
   "outputs": [],
   "source": [
    "box = cv2.imread('Downloads/Acviss_assignment/Assignment1 -- Labels/resources/box.png') # loading the box image\n",
    "circle = cv2.imread('Downloads/Acviss_assignment/Assignment1 -- Labels/resources/circle.png') # loading the circle image\n",
    "dot = cv2.imread('Downloads/Acviss_assignment/Assignment1 -- Labels/resources/dot.png') # loading the dot image\n"
   ]
  },
  {
   "cell_type": "code",
   "execution_count": 10,
   "id": "cf349b78",
   "metadata": {},
   "outputs": [
    {
     "name": "stdout",
     "output_type": "stream",
     "text": [
      "Enter a number in the range 0-15 or type 'quit' to exit from program\n",
      "0\n",
      "Decoded image value 0\n",
      "Enter a number in the range 0-15 or type 'quit' to exit from program\n",
      "quit\n"
     ]
    }
   ],
   "source": [
    "##ENCODING GIVEN NUMBER TO AN IMAGE\n",
    "while True:\n",
    "    x = input(\"Enter a number in the range 0-15 or type 'quit' to exit from program\\n\")\n",
    "    if x == \"quit\":\n",
    "        break\n",
    "    else:\n",
    "        try:\n",
    "            num = int(x)\n",
    "            if num>=0 and num<=15:\n",
    "                bnr = bin(num).replace('0b','')\n",
    "                x = bnr[::-1] #this reverses an array\n",
    "                while len(x) < 4:\n",
    "                    x += '0'\n",
    "                bnr = x[::-1]\n",
    "                b = list(bnr)\n",
    "                count = 0\n",
    "                dst = cv2.bitwise_and(circle,box,mask= None)\n",
    "                for i in b:\n",
    "                    if count==0:\n",
    "                        if i=='0':\n",
    "                            count = count+1\n",
    "                            continue \n",
    "                        elif i=='1':\n",
    "                            dst[380:400, 380:400]=dot\n",
    "                            count = count+1\n",
    "                    elif count==1:\n",
    "                        if i=='0':\n",
    "                            count = count+1\n",
    "                            continue\n",
    "                        elif i=='1':\n",
    "                            dst[380:400, 580:600]=dot\n",
    "                            count = count+1\n",
    "                    elif count==2:\n",
    "                        if i=='0':\n",
    "                            count = count+1\n",
    "                            continue\n",
    "                        elif i=='1':\n",
    "                            dst[580:600, 380:400]=dot\n",
    "                            count = count+1\n",
    "                    elif count==3:\n",
    "                        if i=='0':\n",
    "                            count = count+1\n",
    "                            continue \n",
    "                        elif i=='1':\n",
    "                            dst[580:600, 580:600]=dot\n",
    "                            count = count+1\n",
    "##DECODING THE OUTPUT IMAGE\n",
    "\n",
    "                # Number of pieces Horizontally \n",
    "                CROP_W_SIZE  = 2 \n",
    "                # Number of pieces Vertically to each Horizontal  \n",
    "                CROP_H_SIZE = 2\n",
    "                height, width, channels = dst.shape\n",
    "                img2 = dst\n",
    "                st = \"\"\n",
    "                for ih in range(CROP_H_SIZE ):\n",
    "                    for iw in range(CROP_W_SIZE ):\n",
    "\n",
    "                        x = width/CROP_W_SIZE * iw \n",
    "                        y = height/CROP_H_SIZE * ih\n",
    "                        h = (height / CROP_H_SIZE)\n",
    "                        w = (width / CROP_W_SIZE )\n",
    "                        dst = dst[int(y):int(y+h), int(x):int(x+w)]\n",
    "                        gray = cv2.cvtColor(dst, cv2.COLOR_BGR2GRAY)\n",
    "\n",
    "                        # Find Canny edges\n",
    "                        edged = cv2.Canny(gray, 30, 200)\n",
    "                        cv2.waitKey(0)\n",
    "\n",
    "                        # Finding Contours\n",
    "                        contours, hierarchy = cv2.findContours(edged, \n",
    "                            cv2.RETR_EXTERNAL, cv2.CHAIN_APPROX_NONE)\n",
    "\n",
    "\n",
    "                        if str(len(contours))=='3':\n",
    "                            st += '0'\n",
    "                        elif str(len(contours))=='4':\n",
    "                            st += '1'\n",
    "\n",
    "                        dst = img2\n",
    "                print(\"Decoded image value\",int(st,2))\n",
    "                cv2.imshow('box',img2)\n",
    "                cv2.waitKey(0) \n",
    "                cv2.destroyAllWindows()\n",
    "            else:\n",
    "                raise ValueError(\"Please enter a valid number within the range\\n\")\n",
    "                continue\n",
    "        except ValueError as ve:\n",
    "            print(ve)"
   ]
  },
  {
   "cell_type": "code",
   "execution_count": null,
   "id": "8008b226",
   "metadata": {},
   "outputs": [],
   "source": [
    "\n",
    "\n"
   ]
  },
  {
   "cell_type": "code",
   "execution_count": null,
   "id": "98bf0807",
   "metadata": {},
   "outputs": [],
   "source": []
  }
 ],
 "metadata": {
  "kernelspec": {
   "display_name": "Python 3",
   "language": "python",
   "name": "python3"
  },
  "language_info": {
   "codemirror_mode": {
    "name": "ipython",
    "version": 3
   },
   "file_extension": ".py",
   "mimetype": "text/x-python",
   "name": "python",
   "nbconvert_exporter": "python",
   "pygments_lexer": "ipython3",
   "version": "3.7.10"
  }
 },
 "nbformat": 4,
 "nbformat_minor": 5
}
